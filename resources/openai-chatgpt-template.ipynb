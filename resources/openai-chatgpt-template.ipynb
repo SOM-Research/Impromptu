{
 "cells": [
  {
   "cell_type": "code",
   "execution_count": null,
   "metadata": {},
   "outputs": [],
   "source": [
    "import openai\n",
    "    \n",
    "openai.api_key = 'YOUR_OPENAI_API_KEY'\n",
    "\n",
    "# gpt-3.5-turbo-0301 - snapshot March 1st, 2023\n",
    "# gpt-3.5-turbo-0613 - snapshot June 13th, 2023\n",
    "# gpt-4-0314 - snapshot March 14th, 2023\n",
    "# gpt-4-0613 - snapshot June 13th, 2023\n",
    "# gpt-3.5-turbo\n",
    "# gpt-3.5-turbo-16k\n",
    "# gpt-4\n",
    "model = 'SELECT_AN_OPENAI_MODEL_FROM_ABOVE'"
   ]
  },
  {
   "cell_type": "code",
   "execution_count": null,
   "metadata": {},
   "outputs": [],
   "source": [
    "prompt = ```{PROMPT}```"
   ]
  },
  {
   "cell_type": "code",
   "execution_count": null,
   "metadata": {},
   "outputs": [],
   "source": [
    "completion = openai.ChatCompletion.create(\n",
    "    model = model,\n",
    "    messages = [{\"role\": \"user\", \"content\": prompt}])"
   ]
  },
  {
   "cell_type": "code",
   "execution_count": null,
   "metadata": {},
   "outputs": [],
   "source": [
    "print(completion.choices[0].message.content)"
   ]
  }
 ],
 "metadata": {
  "language_info": {
   "name": "python"
  }
 },
 "nbformat": 4,
 "nbformat_minor": 2
}
